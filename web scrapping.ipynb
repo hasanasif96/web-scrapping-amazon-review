{
 "cells": [
  {
   "cell_type": "code",
   "execution_count": 3,
   "metadata": {},
   "outputs": [],
   "source": [
    "import pandas as pd\n",
    "import requests\n",
    "from bs4 import BeautifulSoup\n",
    "from tqdm import tqdm_notebook\n"
   ]
  },
  {
   "cell_type": "markdown",
   "metadata": {},
   "source": [
    "# scrapping multiple page"
   ]
  },
  {
   "cell_type": "code",
   "execution_count": 9,
   "metadata": {},
   "outputs": [
    {
     "data": {
      "application/vnd.jupyter.widget-view+json": {
       "model_id": "19ed86b5979844d3a688c3bdcfbfb245",
       "version_major": 2,
       "version_minor": 0
      },
      "text/plain": [
       "HBox(children=(IntProgress(value=0, max=22), HTML(value='')))"
      ]
     },
     "metadata": {},
     "output_type": "display_data"
    },
    {
     "name": "stdout",
     "output_type": "stream",
     "text": [
      "\n"
     ]
    },
    {
     "data": {
      "text/html": [
       "<div>\n",
       "<style scoped>\n",
       "    .dataframe tbody tr th:only-of-type {\n",
       "        vertical-align: middle;\n",
       "    }\n",
       "\n",
       "    .dataframe tbody tr th {\n",
       "        vertical-align: top;\n",
       "    }\n",
       "\n",
       "    .dataframe thead th {\n",
       "        text-align: right;\n",
       "    }\n",
       "</style>\n",
       "<table border=\"1\" class=\"dataframe\">\n",
       "  <thead>\n",
       "    <tr style=\"text-align: right;\">\n",
       "      <th></th>\n",
       "      <th>comment</th>\n",
       "      <th>date</th>\n",
       "      <th>rate</th>\n",
       "      <th>user</th>\n",
       "    </tr>\n",
       "  </thead>\n",
       "  <tbody>\n",
       "    <tr>\n",
       "      <th>0</th>\n",
       "      <td>Good quality clock but during transportation, ...</td>\n",
       "      <td>13 January 2019</td>\n",
       "      <td>3.5 out of 5 stars</td>\n",
       "      <td>nikhil patil</td>\n",
       "    </tr>\n",
       "    <tr>\n",
       "      <th>1</th>\n",
       "      <td>Clock look is good and elegant.  But the size ...</td>\n",
       "      <td>13 January 2019</td>\n",
       "      <td>3.5 out of 5 stars</td>\n",
       "      <td>nikhil patil</td>\n",
       "    </tr>\n",
       "    <tr>\n",
       "      <th>2</th>\n",
       "      <td>Good for a small room like kitchen\\n</td>\n",
       "      <td>13 January 2019</td>\n",
       "      <td>3.5 out of 5 stars</td>\n",
       "      <td>nikhil patil</td>\n",
       "    </tr>\n",
       "    <tr>\n",
       "      <th>3</th>\n",
       "      <td>Good product  It has big numbers to read\\n</td>\n",
       "      <td>13 January 2019</td>\n",
       "      <td>3.5 out of 5 stars</td>\n",
       "      <td>nikhil patil</td>\n",
       "    </tr>\n",
       "    <tr>\n",
       "      <th>4</th>\n",
       "      <td>Good quality piece, bit small but very readable\\n</td>\n",
       "      <td>13 January 2019</td>\n",
       "      <td>3.5 out of 5 stars</td>\n",
       "      <td>nikhil patil</td>\n",
       "    </tr>\n",
       "  </tbody>\n",
       "</table>\n",
       "</div>"
      ],
      "text/plain": [
       "                                             comment             date  \\\n",
       "0  Good quality clock but during transportation, ...  13 January 2019   \n",
       "1  Clock look is good and elegant.  But the size ...  13 January 2019   \n",
       "2               Good for a small room like kitchen\\n  13 January 2019   \n",
       "3         Good product  It has big numbers to read\\n  13 January 2019   \n",
       "4  Good quality piece, bit small but very readable\\n  13 January 2019   \n",
       "\n",
       "                 rate          user  \n",
       "0  3.5 out of 5 stars  nikhil patil  \n",
       "1  3.5 out of 5 stars  nikhil patil  \n",
       "2  3.5 out of 5 stars  nikhil patil  \n",
       "3  3.5 out of 5 stars  nikhil patil  \n",
       "4  3.5 out of 5 stars  nikhil patil  "
      ]
     },
     "execution_count": 9,
     "metadata": {},
     "output_type": "execute_result"
    }
   ],
   "source": [
    "stars=[]\n",
    "comment=[]\n",
    "name=[]\n",
    "date=[]\n",
    "\n",
    "def get_name(soup):\n",
    "    name_text=soup.find_all(class_=\"a-profile-name\")\n",
    "    for w in name_text:\n",
    "        return(name.append(w.text))\n",
    "\n",
    "def get_comment(soup):\n",
    "    comment_text=soup.find_all(class_=\"a-size-base review-text review-text-content\")\n",
    "    for x in comment_text:\n",
    "        return(comment.append(x.text))\n",
    "        \n",
    "def get_date(soup):\n",
    "    date_text=soup.find_all(class_=\"a-size-base a-color-secondary review-date\")\n",
    "    for y in date_text:\n",
    "        return(date.append(y.text))\n",
    "        \n",
    "\n",
    "def get_star(soup):\n",
    "    star_text=soup.find_all(class_=\"a-icon-alt\")\n",
    "    for z in star_text:\n",
    "        return(stars.append(z.text))\n",
    "    star = [string[:3] for string in stars]\n",
    "        \n",
    "        \n",
    "for i in tqdm_notebook(range(2,24)):\n",
    "    url=\"https://www.amazon.in/Ajanta-Quartz-Office-Clock-AQ-2147/product-reviews/B00PXJWJJI/ref=cm_cr_getr_d_paging_btm_prev_{}?ie=UTF8&reviewerType=all_reviews&pageNumber={}\".format(i,i)\n",
    "    page=requests.get(url)\n",
    "    soup=BeautifulSoup(page.text,\"html.parser\")\n",
    "    get_comment(soup)\n",
    "    get_name(soup)\n",
    "    get_date(soup)\n",
    "    get_star(soup)\n",
    "\n",
    "final=[]\n",
    "for k,l,m,n in zip(comment,date,stars,name):\n",
    "    final.append({\"comment\":k,\"date\":l,\"rate\":m,\"user\":n})\n",
    "df=pd.DataFrame(final)\n",
    "df.head()"
   ]
  },
  {
   "cell_type": "code",
   "execution_count": null,
   "metadata": {},
   "outputs": [],
   "source": []
  }
 ],
 "metadata": {
  "kernelspec": {
   "display_name": "Python 3",
   "language": "python",
   "name": "python3"
  },
  "language_info": {
   "codemirror_mode": {
    "name": "ipython",
    "version": 3
   },
   "file_extension": ".py",
   "mimetype": "text/x-python",
   "name": "python",
   "nbconvert_exporter": "python",
   "pygments_lexer": "ipython3",
   "version": "3.7.0"
  }
 },
 "nbformat": 4,
 "nbformat_minor": 2
}
